{
 "cells": [
  {
   "cell_type": "code",
   "execution_count": null,
   "id": "1d38e900-5015-4b44-b7e8-856ca8959f1d",
   "metadata": {},
   "outputs": [],
   "source": []
  }
 ],
 "metadata": {
  "kernelspec": {
   "display_name": "",
   "name": ""
  },
  "language_info": {
   "name": ""
  }
 },
 "nbformat": 4,
 "nbformat_minor": 5
}
